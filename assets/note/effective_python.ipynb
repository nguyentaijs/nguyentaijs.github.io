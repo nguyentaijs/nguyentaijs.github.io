{
 "cells": [
  {
   "metadata": {},
   "cell_type": "markdown",
   "source": [
    "# I. Terminologies\n",
    "Tuple: được định nghĩa là một chuỗi các phần tử không thay đổi (immutable) được bọc trong dấu ngoặc đơn. Có một số tính chất như sau\n",
    "- Immutable: sau khi khởi tạo, không thể thêm, xóa, sửa phần tử trong tuple.\n",
    "- Có thể chứa nhiều kiểu dữ liệu khác nhau.\n",
    "- Truy suất nhanh hơn thông qua index nhờ tính immutable\n",
    "- Hỗ trợ cơ chế unpacking\n",
    "\n",
    "Unpacking: là quá trình gán giá trị của một iterable (tuple, list, string, dictionary, etc) vào nhiều biến cùng lúc.\n",
    "\n",
    "\n",
    "\n",
    "\n",
    "\n"
   ],
   "id": "7fa59fe16740b6c7"
  },
  {
   "metadata": {
    "jupyter": {
     "is_executing": true
    }
   },
   "cell_type": "code",
   "source": [
    "tuple_example = (1, 2, 3, 4, 5)\n",
    "first, second, *rest  = tuple_example\n",
    "\n",
    "print('f\"First element: {first}\")')"
   ],
   "id": "628f44eebfaffa55",
   "outputs": [],
   "execution_count": null
  },
  {
   "metadata": {},
   "cell_type": "code",
   "outputs": [],
   "execution_count": null,
   "source": "",
   "id": "d3b1068d40e622e7"
  },
  {
   "metadata": {},
   "cell_type": "markdown",
   "source": "# II. Rule#5 Prefer multiple assignment unpacking over indexing\n",
   "id": "fa334171ed35dd2d"
  }
 ],
 "metadata": {
  "kernelspec": {
   "display_name": "Python 3",
   "language": "python",
   "name": "python3"
  },
  "language_info": {
   "codemirror_mode": {
    "name": "ipython",
    "version": 2
   },
   "file_extension": ".py",
   "mimetype": "text/x-python",
   "name": "python",
   "nbconvert_exporter": "python",
   "pygments_lexer": "ipython2",
   "version": "2.7.6"
  }
 },
 "nbformat": 4,
 "nbformat_minor": 5
}
